{
 "cells": [
  {
   "cell_type": "markdown",
   "id": "81151038",
   "metadata": {},
   "source": [
    "Validating the Qiskit version"
   ]
  },
  {
   "cell_type": "code",
   "execution_count": 128,
   "id": "762efacd",
   "metadata": {},
   "outputs": [
    {
     "data": {
      "text/plain": [
       "'2.2.0'"
      ]
     },
     "execution_count": 128,
     "metadata": {},
     "output_type": "execute_result"
    }
   ],
   "source": [
    "import qiskit\n",
    "\n",
    "qiskit.version.get_version_info()"
   ]
  },
  {
   "cell_type": "code",
   "execution_count": 129,
   "id": "9960062f",
   "metadata": {},
   "outputs": [
    {
     "data": {
      "text/plain": [
       "'0.17.2'"
      ]
     },
     "execution_count": 129,
     "metadata": {},
     "output_type": "execute_result"
    }
   ],
   "source": [
    "import qiskit_aer\n",
    "\n",
    "qiskit_aer.version.get_version_info()\n",
    "\n"
   ]
  },
  {
   "cell_type": "code",
   "execution_count": 130,
   "id": "71475ede",
   "metadata": {},
   "outputs": [],
   "source": [
    "from qiskit_aer import AerSimulator\n"
   ]
  },
  {
   "cell_type": "markdown",
   "id": "4946eaac",
   "metadata": {},
   "source": [
    "Testing the sample"
   ]
  },
  {
   "cell_type": "code",
   "execution_count": 131,
   "id": "e926294f",
   "metadata": {},
   "outputs": [
    {
     "name": "stdout",
     "output_type": "stream",
     "text": [
      "Generated GHZ circuit:\n",
      "     ┌───┐             ┌─┐   \n",
      "q_0: ┤ H ├──■────■─────┤M├───\n",
      "     └───┘┌─┴─┐  │  ┌─┐└╥┘   \n",
      "q_1: ─────┤ X ├──┼──┤M├─╫────\n",
      "          └───┘┌─┴─┐└╥┘ ║ ┌─┐\n",
      "q_2: ──────────┤ X ├─╫──╫─┤M├\n",
      "               └───┘ ║  ║ └╥┘\n",
      "c: 3/════════════════╩══╩══╩═\n",
      "                     1  0  2 \n",
      "Measurement counts: {'111': 532, '000': 492}\n"
     ]
    }
   ],
   "source": [
    "# ghz_state_solution.py\n",
    "\n",
    "from qiskit import QuantumCircuit,transpile\n",
    "from qiskit_aer import Aer\n",
    "\n",
    "def build_ghz_circuit(num_qubits):\n",
    "    qc = QuantumCircuit(num_qubits, num_qubits)\n",
    "\n",
    "    # Apply Hadamard on first qubit\n",
    "    qc.h(0)\n",
    "\n",
    "    # Apply CNOT chain from first qubit to all others\n",
    "    for i in range(1, num_qubits):\n",
    "        qc.cx(0, i)\n",
    "\n",
    "    # Measure all qubits\n",
    "    qc.measure(range(num_qubits), range(num_qubits))\n",
    "\n",
    "    return qc\n",
    "def simulate_circuit(qc, shots=1024):\n",
    "    sim = Aer.get_backend(\"qasm_simulator\")\n",
    "    transpiled = transpile(qc, backend=sim)\n",
    "    result = sim.run(transpiled, shots=shots).result()\n",
    "    counts = result.get_counts()\n",
    "    return counts\n",
    "\n",
    "\n",
    "num_qubits = 3  # try 4 as well\n",
    "qc = build_ghz_circuit(num_qubits)\n",
    "print(\"Generated GHZ circuit:\")\n",
    "print(qc.draw())\n",
    "\n",
    "counts = simulate_circuit(qc, shots=1024)\n",
    "print(\"Measurement counts:\", counts)"
   ]
  },
  {
   "cell_type": "markdown",
   "id": "eb62b0ce",
   "metadata": {},
   "source": [
    "Using Sample - implemting the Shor's Algorithm"
   ]
  },
  {
   "cell_type": "code",
   "execution_count": 132,
   "id": "431413b4",
   "metadata": {},
   "outputs": [],
   "source": [
    "# shor_from_scratch_qiskit_task.py\n",
    "\n",
    "import math\n",
    "import numpy as np\n",
    "from fractions import Fraction\n",
    "from collections import Counter\n",
    "\n",
    "from qiskit import QuantumCircuit, transpile\n",
    "from qiskit_aer import AerSimulator\n",
    "from qiskit.circuit.library import QFT, UnitaryGate\n",
    "\n",
    "\n",
    "# ============================================================\n",
    "# Section 1: Helper math functions (already implemented)\n",
    "# ============================================================\n",
    "\n",
    "def is_coprime(a, b):\n",
    "    return math.gcd(a, b) == 1\n",
    "\n",
    "def continued_fraction_expansion(x, max_den=1_000_000):\n",
    "    frac = Fraction(x).limit_denominator(max_den)\n",
    "    return frac.numerator, frac.denominator\n",
    "\n",
    "def fraction_from_phase(phase, qcount):\n",
    "    y_over_2q = phase / (2**qcount)\n",
    "    num, den = continued_fraction_expansion(y_over_2q, max_den=2**qcount)\n",
    "    return num, den\n",
    "\n",
    "def get_most_likely_result(counts):\n",
    "    measured_str = Counter(counts).most_common(1)[0][0]\n",
    "    return int(measured_str, 2), measured_str\n"
   ]
  },
  {
   "cell_type": "markdown",
   "id": "1f9f7534",
   "metadata": {},
   "source": [
    "Using Sample - creating the Quantum Blocks\n"
   ]
  },
  {
   "cell_type": "code",
   "execution_count": 133,
   "id": "4e38ecb1",
   "metadata": {},
   "outputs": [],
   "source": [
    "# ============================================================\n",
    "# Section 2: Quantum building blocks (tasks to complete)\n",
    "# ============================================================\n",
    "\n",
    "def build_multiplication_mod_matrix(a, N):\n",
    "    \"\"\"\n",
    "    Task: Build the modular multiplication matrix U_a of size 2^n x 2^n.\n",
    "    |x> -> |(a*x) mod N>  for x < N,\n",
    "    |x> -> |x>            for x >= N\n",
    "    \"\"\"\n",
    "    return None  # <-- replace with matrix construction\n",
    "\n",
    "\n",
    "def controlled_powered_unitary_gate(U_matrix, power):\n",
    "    \"\"\"\n",
    "    Task: Return a UnitaryGate for U^power.\n",
    "    Hint: use numpy.linalg.matrix_power and UnitaryGate.\n",
    "    \"\"\"\n",
    "    return None  # <-- replace with gate construction"
   ]
  },
  {
   "cell_type": "markdown",
   "id": "c52f97c2",
   "metadata": {},
   "source": [
    "Using Sample - Shor's order finding"
   ]
  },
  {
   "cell_type": "code",
   "execution_count": 134,
   "id": "d3dd5c4b",
   "metadata": {},
   "outputs": [],
   "source": [
    "# ============================================================\n",
    "# Section 3: Shor's order finding (main quantum part)\n",
    "# ============================================================\n",
    "\n",
    "def shor_order_finding(N, a, qcount=None, shots=1024, seed_sim=42, verbose=True):\n",
    "    if not (1 < a < N) or math.gcd(a, N) != 1:\n",
    "        raise ValueError(\"a must be 1 < a < N and coprime to N\")\n",
    "\n",
    "    n = math.ceil(math.log2(N))\n",
    "    if qcount is None:\n",
    "        qcount = 2 * n\n",
    "\n",
    "    # Task: Build U_a matrix\n",
    "    U = build_multiplication_mod_matrix(a, N)\n",
    "\n",
    "    total_qubits = qcount + n\n",
    "    qc = QuantumCircuit(total_qubits, qcount)\n",
    "\n",
    "    counting_qubits = list(range(qcount))\n",
    "    target_qubits = list(range(qcount, qcount + n))\n",
    "\n",
    "    # Initialize target register to |1>\n",
    "    qc.x(target_qubits[0])\n",
    "\n",
    "    # Apply Hadamards to counting register\n",
    "    qc.h(counting_qubits)\n",
    "\n",
    "    # Task: Apply controlled-U^(2^j) gates for each counting qubit\n",
    "    # for j in range(qcount):\n",
    "    #     power = 2**j\n",
    "    #     U_pow_gate = controlled_powered_unitary_gate(U, power).control()\n",
    "    #     qc.append(U_pow_gate, [counting_qubits[j]] + target_qubits)\n",
    "\n",
    "    # Task: Apply inverse QFT on counting register\n",
    "    # invqft = inverse_qft_circuit(qcount)\n",
    "    # qc.compose(invqft, qubits=counting_qubits, inplace=True)\n",
    "\n",
    "    # Task: Add measurement of counting register\n",
    "    # qc.measure(counting_qubits, list(range(qcount)))\n",
    "\n",
    "    # Running on simulator (already implemented)\n",
    "    sim = AerSimulator(seed_simulator=seed_sim)\n",
    "    transpiled = transpile(qc, sim, seed_transpiler=seed_sim)\n",
    "    result = sim.run(transpiled, shots=shots).result()\n",
    "    counts = result.get_counts()\n",
    "\n",
    "    y_int, y_str = get_most_likely_result(counts)\n",
    "    if verbose:\n",
    "        print(f\"Most frequent measurement (counting register): {y_str} -> int {y_int}\")\n",
    "\n",
    "    s, r_candidate = fraction_from_phase(y_int, qcount)\n",
    "    if verbose:\n",
    "        print(f\"Continued fraction approx: s={s}, r_candidate={r_candidate}\")\n",
    "\n",
    "    r = r_candidate\n",
    "    for mult in range(1, 11):\n",
    "        r_try = r * mult\n",
    "        if r_try != 0 and pow(a, r_try, N) == 1:\n",
    "            if verbose:\n",
    "                print(f\"Found order r = {r_try}\")\n",
    "            return r_try, counts\n",
    "    return None, counts"
   ]
  },
  {
   "cell_type": "markdown",
   "id": "1e8c6fc1",
   "metadata": {},
   "source": [
    "Using Sample - Classical Post Processing"
   ]
  },
  {
   "cell_type": "code",
   "execution_count": 135,
   "id": "35153985",
   "metadata": {},
   "outputs": [],
   "source": [
    "# ============================================================\n",
    "# Section 4: Classical postprocessing (already given)\n",
    "# ============================================================\n",
    "\n",
    "def shor_factor(N, shots=1024, tries=5, verbose=True):\n",
    "    if N % 2 == 0:\n",
    "        return 2, N // 2\n",
    "    for attempt in range(tries):\n",
    "        a = np.random.randint(2, N-1)\n",
    "        if math.gcd(a, N) != 1:\n",
    "            d = math.gcd(a, N)\n",
    "            return d, N // d\n",
    "\n",
    "        if verbose:\n",
    "            print(f\"Attempt {attempt+1}: trying base a = {a}\")\n",
    "\n",
    "        r, counts = shor_order_finding(N, a, shots=shots, verbose=verbose)\n",
    "        if r is None or r % 2 != 0:\n",
    "            continue\n",
    "\n",
    "        apow = pow(a, r // 2, N)\n",
    "        candidate1 = math.gcd(apow - 1, N)\n",
    "        candidate2 = math.gcd(apow + 1, N)\n",
    "\n",
    "        if candidate1 not in [1, N]:\n",
    "            return candidate1, N // candidate1\n",
    "        if candidate2 not in [1, N]:\n",
    "            return candidate2, N // candidate2\n",
    "    return None"
   ]
  },
  {
   "cell_type": "markdown",
   "id": "9fe498ca",
   "metadata": {},
   "source": [
    "Testing the Shor's Algorithm implementation"
   ]
  },
  {
   "cell_type": "markdown",
   "id": "83f66593",
   "metadata": {},
   "source": [
    "N= 15"
   ]
  },
  {
   "cell_type": "code",
   "execution_count": 136,
   "id": "5cdaadef",
   "metadata": {},
   "outputs": [
    {
     "name": "stdout",
     "output_type": "stream",
     "text": [
      "Running Shor's algorithm to factor N=15 with 1024 shots...\n",
      "\n",
      "*** Found nontrivial factors: 5 × 3 = 15 ***\n"
     ]
    }
   ],
   "source": [
    "# -------------------------\n",
    "# Demo N=15\n",
    "# -------------------------\n",
    "\n",
    "if __name__ == \"__main__\":\n",
    "    N = 15\n",
    "    print(f\"Running Shor's algorithm to factor N={N} with 1024 shots...\")\n",
    "    factors = shor_factor(N, shots=1024, tries=5, verbose=True)\n",
    "    if factors:\n",
    "        p, q = factors\n",
    "        print(f\"\\n*** Found nontrivial factors: {p} × {q} = {N} ***\")\n",
    "    else:\n",
    "        print(\"\\nNo factors found. Try re-running (probabilistic algorithm).\")"
   ]
  },
  {
   "cell_type": "markdown",
   "id": "6a74b34c",
   "metadata": {},
   "source": [
    "Testing for N= 21"
   ]
  },
  {
   "cell_type": "code",
   "execution_count": 137,
   "id": "d8b6cfc4",
   "metadata": {},
   "outputs": [
    {
     "name": "stdout",
     "output_type": "stream",
     "text": [
      "Running Shor's algorithm to factor N=21 with 1024 shots...\n",
      "\n",
      "*** Found nontrivial factors: 3 × 7 = 21 ***\n"
     ]
    }
   ],
   "source": [
    "# -------------------------\n",
    "# Demo N=21\n",
    "# -------------------------\n",
    "if __name__ == \"__main__\":\n",
    "    N = 21   # <<-- changed here\n",
    "    print(f\"Running Shor's algorithm to factor N={N} with 1024 shots...\")\n",
    "    factors = shor_factor(N, shots=1024, tries=5, verbose=True)\n",
    "    if factors:\n",
    "        p, q = factors\n",
    "        print(f\"\\n*** Found nontrivial factors: {p} × {q} = {N} ***\")\n",
    "    else:\n",
    "        print(\"\\nNo factors found. Try re-running (probabilistic algorithm).\")"
   ]
  }
 ],
 "metadata": {
  "kernelspec": {
   "display_name": "QucodeQiskit",
   "language": "python",
   "name": "python3"
  },
  "language_info": {
   "codemirror_mode": {
    "name": "ipython",
    "version": 3
   },
   "file_extension": ".py",
   "mimetype": "text/x-python",
   "name": "python",
   "nbconvert_exporter": "python",
   "pygments_lexer": "ipython3",
   "version": "3.13.7"
  }
 },
 "nbformat": 4,
 "nbformat_minor": 5
}
